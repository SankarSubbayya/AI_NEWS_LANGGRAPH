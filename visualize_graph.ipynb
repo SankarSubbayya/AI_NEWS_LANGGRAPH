{
  "cells": [
    {
      "cell_type": "markdown",
      "metadata": {},
      "source": [
        "# LangGraph Workflow Visualization\n",
        "\n",
        "This notebook visualizes the AI News LangGraph multi-agent workflow using IPython.display.\n"
      ]
    },
    {
      "cell_type": "code",
      "execution_count": 1,
      "metadata": {},
      "outputs": [
        {
          "name": "stdout",
          "output_type": "stream",
          "text": [
            "✅ Environment setup complete\n"
          ]
        }
      ],
      "source": [
        "# Setup\n",
        "import sys\n",
        "from pathlib import Path\n",
        "\n",
        "# Add src to path\n",
        "sys.path.insert(0, str(Path.cwd() / \"src\"))\n",
        "\n",
        "print(\"✅ Environment setup complete\")\n"
      ]
    },
    {
      "cell_type": "code",
      "execution_count": 5,
      "metadata": {},
      "outputs": [
        {
          "name": "stdout",
          "output_type": "stream",
          "text": [
            "🎨 Building LangGraph workflow...\n",
            "✅ Graph built successfully!\n"
          ]
        }
      ],
      "source": [
        "# Build the workflow graph\n",
        "from langgraph.graph import StateGraph, END\n",
        "from ai_news_langgraph.schemas import WorkflowState\n",
        "\n",
        "print(\"🎨 Building LangGraph workflow...\")\n",
        "\n",
        "# Create workflow\n",
        "workflow = StateGraph(WorkflowState)\n",
        "\n",
        "# Add nodes\n",
        "workflow.add_node(\"fetch_news_for_topic\", lambda state: state)\n",
        "workflow.add_node(\"summarize_topic_news\", lambda state: state)\n",
        "workflow.add_node(\"create_executive_summary\", lambda state: state)\n",
        "workflow.add_node(\"generate_newsletter\", lambda state: state)\n",
        "\n",
        "# Set entry point\n",
        "workflow.set_entry_point(\"fetch_news_for_topic\")\n",
        "\n",
        "# Add edges\n",
        "workflow.add_edge(\"fetch_news_for_topic\", \"summarize_topic_news\")\n",
        "\n",
        "# Conditional edge\n",
        "workflow.add_conditional_edges(\n",
        "    \"summarize_topic_news\",\n",
        "    lambda state: \"fetch_news_for_topic\" if state.get(\"current_topic_index\", 0) < len(state.get(\"topics\", [])) else \"create_executive_summary\",\n",
        "    {\n",
        "        \"fetch_news_for_topic\": \"fetch_news_for_topic\",\n",
        "        \"create_executive_summary\": \"create_executive_summary\"\n",
        "    }\n",
        ")\n",
        "\n",
        "workflow.add_edge(\"create_executive_summary\", \"generate_newsletter\")\n",
        "workflow.add_edge(\"generate_newsletter\", END)\n",
        "\n",
        "# Compile\n",
        "app = workflow.compile()\n",
        "\n",
        "print(\"✅ Graph built successfully!\")\n"
      ]
    },
    {
      "cell_type": "markdown",
      "metadata": {},
      "source": [
        "## Visualize the Graph\n",
        "\n",
        "Display the workflow graph as an image using IPython.display:\n"
      ]
    },
    {
      "cell_type": "code",
      "execution_count": 9,
      "metadata": {},
      "outputs": [
        {
          "data": {
            "image/png": "[encoded data removed]",
            "text/plain": [
              "<IPython.core.display.Image object>"
            ]
          },
          "metadata": {},
          "output_type": "display_data"
        },
        {
          "name": "stdout",
          "output_type": "stream",
          "text": [
            "✅ Graph visualization displayed!\n"
          ]
        }
      ],
      "source": [
        "# Display the graph using IPython.display\n",
        "from IPython.display import Image, display\n",
        "\n",
        "try:\n",
        "    graph = app.get_graph()\n",
        "    display(Image(graph.draw_mermaid_png()))\n",
        "    print(\"✅ Graph visualization displayed!\")\n",
        "except Exception as e:\n",
        "    print(f\"⚠️ Could not display graph: {e}\")\n",
        "    print(\"This requires additional dependencies.\")\n",
        "    print(\"\\nView the Mermaid code instead (see next cells)\")\n"
      ]
    },
    {
      "cell_type": "code",
      "execution_count": 8,
      "metadata": {},
      "outputs": [
        {
          "ename": "ImportError",
          "evalue": "attempted relative import with no known parent package",
          "output_type": "error",
          "traceback": [
            "\u001b[31m---------------------------------------------------------------------------\u001b[39m",
            "\u001b[31mImportError\u001b[39m                               Traceback (most recent call last)",
            "\u001b[36mCell\u001b[39m\u001b[36m \u001b[39m\u001b[32mIn[8]\u001b[39m\u001b[32m, line 2\u001b[39m\n\u001b[32m      1\u001b[39m \u001b[38;5;66;03m# In nodes_v2.py, change:\u001b[39;00m\n\u001b[32m----> \u001b[39m\u001b[32m2\u001b[39m \u001b[38;5;28;01mfrom\u001b[39;00m\u001b[38;5;250m \u001b[39m\u001b[34;01m.\u001b[39;00m\u001b[34;01mprompts_costar\u001b[39;00m\u001b[38;5;250m \u001b[39m\u001b[38;5;28;01mimport\u001b[39;00m costar_prompt_registry \u001b[38;5;28;01mas\u001b[39;00m prompt_registry\n",
            "\u001b[31mImportError\u001b[39m: attempted relative import with no known parent package"
          ]
        }
      ],
      "source": [
        "# In nodes_v2.py, change:\n",
        "from .prompts_costar import costar_prompt_registry as prompt_registry"
      ]
    },
    {
      "cell_type": "code",
      "execution_count": 7,
      "metadata": {},
      "outputs": [
        {
          "ename": "ModuleNotFoundError",
          "evalue": "No module named 'prompts_costar'",
          "output_type": "error",
          "traceback": [
            "\u001b[31m---------------------------------------------------------------------------\u001b[39m",
            "\u001b[31mModuleNotFoundError\u001b[39m                       Traceback (most recent call last)",
            "\u001b[36mCell\u001b[39m\u001b[36m \u001b[39m\u001b[32mIn[7]\u001b[39m\u001b[32m, line 1\u001b[39m\n\u001b[32m----> \u001b[39m\u001b[32m1\u001b[39m \u001b[38;5;28;01mfrom\u001b[39;00m\u001b[38;5;250m \u001b[39m\u001b[34;01mprompts_costar\u001b[39;00m\u001b[38;5;250m \u001b[39m\u001b[38;5;28;01mimport\u001b[39;00m get_costar_prompt\n\u001b[32m      3\u001b[39m prompt = get_costar_prompt(\u001b[33m\"\u001b[39m\u001b[33mresearch_agent\u001b[39m\u001b[33m\"\u001b[39m, \u001b[33m\"\u001b[39m\u001b[33manalyze_relevance\u001b[39m\u001b[33m\"\u001b[39m)\n\u001b[32m      4\u001b[39m \u001b[38;5;66;03m# Use with your LLM\u001b[39;00m\n",
            "\u001b[31mModuleNotFoundError\u001b[39m: No module named 'prompts_costar'"
          ]
        }
      ],
      "source": [
        "from prompts_costar import get_costar_prompt\n",
        "\n",
        "prompt = get_costar_prompt(\"research_agent\", \"analyze_relevance\")\n",
        "# Use with your LLM"
      ]
    }
  ],
  "metadata": {
    "kernelspec": {
      "display_name": ".venv",
      "language": "python",
      "name": "python3"
    },
    "language_info": {
      "codemirror_mode": {
        "name": "ipython",
        "version": 3
      },
      "file_extension": ".py",
      "mimetype": "text/x-python",
      "name": "python",
      "nbconvert_exporter": "python",
      "pygments_lexer": "ipython3",
      "version": "3.12.11"
    }
  },
  "nbformat": 4,
  "nbformat_minor": 2
}
